{
 "cells": [
  {
   "cell_type": "code",
   "execution_count": null,
   "metadata": {
    "id": "G4CCS_ZnDSGa"
   },
   "outputs": [],
   "source": [
    "import numpy as np\n",
    "import pandas as pd\n",
    "import matplotlib.pyplot as plt\n",
    "import torch\n",
    "import torch.nn as nn\n",
    "import pickle\n",
    "import re\n",
    "import string\n",
    "from unicodedata import normalize\n",
    "import pickle\n",
    "from tqdm import tqdm\n",
    "from collections import defaultdict, Counter"
   ]
  },
  {
   "cell_type": "code",
   "execution_count": null,
   "metadata": {
    "id": "N7h6xq14H4oy"
   },
   "outputs": [],
   "source": [
    "import matplotlib.ticker as ticker"
   ]
  },
  {
   "cell_type": "code",
   "execution_count": null,
   "metadata": {
    "id": "TcibFs2h0k77"
   },
   "outputs": [],
   "source": [
    "from nltk.translate.bleu_score import sentence_bleu"
   ]
  },
  {
   "cell_type": "code",
   "execution_count": null,
   "metadata": {
    "id": "piIgAiVUDjJU"
   },
   "outputs": [],
   "source": [
    "import seaborn as sns\n",
    "from torch.utils.data import Dataset\n",
    "from torch.utils.data import DataLoader\n",
    "import torch.optim as optim"
   ]
  },
  {
   "cell_type": "code",
   "execution_count": null,
   "metadata": {
    "id": "jiP7ZMUm0_8U"
   },
   "outputs": [],
   "source": [
    "import torchtext"
   ]
  },
  {
   "cell_type": "code",
   "execution_count": null,
   "metadata": {
    "colab": {
     "base_uri": "https://localhost:8080/"
    },
    "id": "3LiscIBA1Bsr",
    "outputId": "9314ade7-8ee1-4634-99df-39ef596dbfba"
   },
   "outputs": [
    {
     "name": "stderr",
     "output_type": "stream",
     "text": [
      "2016-01.tgz: 188MB [00:05, 32.4MB/s]\n"
     ]
    }
   ],
   "source": [
    "train, val, test = torchtext.datasets.IWSLT2016(root='.data', split=('train', 'valid', 'test'), language_pair=('fr', 'en'), valid_set='tst2013', test_set='tst2014')"
   ]
  },
  {
   "cell_type": "code",
   "execution_count": null,
   "metadata": {
    "colab": {
     "base_uri": "https://localhost:8080/"
    },
    "id": "fxbGQXoW1Cwi",
    "outputId": "71a4064a-6c88-4105-8307-236de4dad8c9"
   },
   "outputs": [
    {
     "data": {
      "text/plain": [
       "(\"Quand j'avais la vingtaine, j'ai vu mes tout premiers clients comme psychothérapeute.\\n\",\n",
       " 'When I was in my 20s, I saw my very first psychotherapy client.\\n')"
      ]
     },
     "execution_count": 6,
     "metadata": {
      "tags": []
     },
     "output_type": "execute_result"
    }
   ],
   "source": [
    "next(iter(test))"
   ]
  },
  {
   "cell_type": "code",
   "execution_count": null,
   "metadata": {
    "id": "MfNeBfK_D1h8"
   },
   "outputs": [],
   "source": [
    "if torch.cuda.is_available():\n",
    "  device = \"cuda\"\n",
    "else:\n",
    "  device = \"cpu\""
   ]
  },
  {
   "cell_type": "code",
   "execution_count": null,
   "metadata": {
    "colab": {
     "base_uri": "https://localhost:8080/",
     "height": 37
    },
    "id": "teAYzmuvYqnI",
    "outputId": "9ccd2419-84d9-4694-bf35-76f69a16e159"
   },
   "outputs": [
    {
     "data": {
      "application/vnd.google.colaboratory.intrinsic+json": {
       "type": "string"
      },
      "text/plain": [
       "'cuda'"
      ]
     },
     "execution_count": 8,
     "metadata": {
      "tags": []
     },
     "output_type": "execute_result"
    }
   ],
   "source": [
    "device"
   ]
  },
  {
   "cell_type": "code",
   "execution_count": null,
   "metadata": {
    "id": "ROqEExQ3D24o"
   },
   "outputs": [],
   "source": [
    "def load_doc(filename):\n",
    "    file = open(filename, mode='rt', encoding='utf-8')\n",
    "    text = file.read()\n",
    "    file.close()\n",
    "    return text\n",
    "\n",
    "def to_sentences(doc):\n",
    "    return doc.strip().split('\\n')\n",
    "\n",
    "def clean_line(line):\n",
    "    re_print = re.compile('[^%s]'% re.escape(string.printable))\n",
    "    table = str.maketrans('', '', string.punctuation)\n",
    "    line = normalize('NFD', line).encode('ascii', 'ignore')\n",
    "    line = line.decode('UTF-8')\n",
    "    line = line.split()\n",
    "    line = [word.lower() for word in line]\n",
    "    line = [word.translate(table) for word in line]\n",
    "    line = [re_print.sub('', w) for w in line]\n",
    "    line = [w for w in line if w.isalpha()]\n",
    "    return \" \".join(word for word in line)\n",
    "\n",
    "def load_pickle(filename):\n",
    "    rfile = open(filename, 'rb')\n",
    "    arr = pickle.load(rfile)\n",
    "    return arr\n",
    "\n",
    "def save_sentences(sents, filename):\n",
    "    pickle.dump(sents, open(filename, 'wb'))\n",
    "    print(\"Saved...\")"
   ]
  },
  {
   "cell_type": "code",
   "execution_count": null,
   "metadata": {
    "id": "jC05zQaDD4w2"
   },
   "outputs": [],
   "source": [
    "# engs = load_pickle('/content/english_parl.pkl')\n",
    "# frs = load_pickle('/content/french_parl.pkl')"
   ]
  },
  {
   "cell_type": "code",
   "execution_count": null,
   "metadata": {
    "id": "eicqAF1sEBuP"
   },
   "outputs": [],
   "source": [
    "def get_avglen(data):\n",
    "    size = 0\n",
    "    for line in data:\n",
    "        size += len(line.split())\n",
    "    return size / len(data)"
   ]
  },
  {
   "cell_type": "code",
   "execution_count": null,
   "metadata": {
    "id": "w8z1RJzTEDAk"
   },
   "outputs": [],
   "source": [
    "fr_data, eng_data = [], []\n",
    "for pair in enumerate(train):\n",
    "  src, target = pair[1]\n",
    "  # print(pair)\n",
    "  fr_data.append(clean_line(src))\n",
    "  eng_data.append(clean_line(target))"
   ]
  },
  {
   "cell_type": "code",
   "execution_count": null,
   "metadata": {
    "id": "Ob4Mrkwd1TXD"
   },
   "outputs": [],
   "source": [
    "fr_val, eng_val = [], []\n",
    "for pair in enumerate(val):\n",
    "  src, target = pair[1]\n",
    "  fr_val.append(clean_line(src))\n",
    "  eng_val.append(clean_line(target))"
   ]
  },
  {
   "cell_type": "code",
   "execution_count": null,
   "metadata": {
    "colab": {
     "base_uri": "https://localhost:8080/"
    },
    "id": "2YVjbqbX1V8N",
    "outputId": "13f7dfc9-9656-4731-e817-a22bd0772352"
   },
   "outputs": [
    {
     "data": {
      "text/plain": [
       "(1026, 220400)"
      ]
     },
     "execution_count": 14,
     "metadata": {
      "tags": []
     },
     "output_type": "execute_result"
    }
   ],
   "source": [
    "len(fr_val), len(fr_data)"
   ]
  },
  {
   "cell_type": "code",
   "execution_count": null,
   "metadata": {
    "id": "Lzd-VLjgEEs6"
   },
   "outputs": [],
   "source": [
    "def tokenize(data, vocab_size):\n",
    "    \n",
    "    ctr = Counter()\n",
    "    m = len(data)\n",
    "    for i in tqdm(range(m)):\n",
    "        sent = data[i]\n",
    "        line = sent.split()\n",
    "        ctr.update(line)\n",
    "    tokens = [k for k,c in ctr.items()][:vocab_size]\n",
    "    # print(\"Len of ctr\", len(ctr))\n",
    "    word2idx, idx2word = {}, {}\n",
    "    word2idx['<start>'], idx2word[0] = 0, '<start>'\n",
    "    word2idx['<end>'], idx2word[1] = 1, '<end>'\n",
    "    word2idx['<pad>'], idx2word[2] = 2, '<pad>'\n",
    "    word2idx['<unk>'], idx2word[3] = 3, '<unk>'\n",
    "    cur = 4\n",
    "    for word in tokens:\n",
    "        word2idx[word] = cur\n",
    "        idx2word[cur] = word\n",
    "        cur += 1\n",
    "    return word2idx, idx2word, ctr"
   ]
  },
  {
   "cell_type": "code",
   "execution_count": null,
   "metadata": {
    "id": "Woj7Axs36kma"
   },
   "outputs": [],
   "source": [
    "# tokenize(fr_data, 10000)"
   ]
  },
  {
   "cell_type": "code",
   "execution_count": null,
   "metadata": {
    "colab": {
     "base_uri": "https://localhost:8080/"
    },
    "id": "sEZbGG5NEGnz",
    "outputId": "ab90ebdc-65dc-478f-d4ad-bbf47fcf93cf"
   },
   "outputs": [
    {
     "name": "stderr",
     "output_type": "stream",
     "text": [
      "100%|██████████| 220400/220400 [00:01<00:00, 200944.40it/s]\n"
     ]
    }
   ],
   "source": [
    "fr_word2idx, fr_idx2word, fctr = tokenize(fr_data, 15000)"
   ]
  },
  {
   "cell_type": "code",
   "execution_count": null,
   "metadata": {
    "colab": {
     "base_uri": "https://localhost:8080/"
    },
    "id": "y0wPjWfAEIKo",
    "outputId": "93e38d73-c3b0-42bb-f224-a98936dfeea3"
   },
   "outputs": [
    {
     "name": "stderr",
     "output_type": "stream",
     "text": [
      "100%|██████████| 220400/220400 [00:01<00:00, 209665.73it/s]\n"
     ]
    }
   ],
   "source": [
    "eng_word2idx, eng_idx2word, ectr = tokenize(eng_data, 15000)"
   ]
  },
  {
   "cell_type": "code",
   "execution_count": null,
   "metadata": {
    "id": "L9kDCMSPEJ35"
   },
   "outputs": [],
   "source": [
    "def nums(sentence, word2idx, idx2word):\n",
    "    line = sentence.split()\n",
    "    res = [0]\n",
    "    for word in line:\n",
    "        if word in word2idx.keys():\n",
    "            res.append(word2idx[word])\n",
    "            continue\n",
    "        res.append(word2idx['<unk>'])\n",
    "    res.append(1)\n",
    "    return res"
   ]
  },
  {
   "cell_type": "code",
   "execution_count": null,
   "metadata": {
    "colab": {
     "base_uri": "https://localhost:8080/",
     "height": 54
    },
    "id": "LwA3KCZKELV4",
    "outputId": "a96d8b9b-9b54-4b50-c0ac-17c3dd0c130b"
   },
   "outputs": [
    {
     "name": "stdout",
     "output_type": "stream",
     "text": [
      "['<start>', 'david', 'gallo', 'this', 'is', 'bill', 'lange', 'im', 'dave', 'gallo', '<end>']\n"
     ]
    },
    {
     "data": {
      "application/vnd.google.colaboratory.intrinsic+json": {
       "type": "string"
      },
      "text/plain": [
       "'david gallo this is bill lange im dave gallo'"
      ]
     },
     "execution_count": 20,
     "metadata": {
      "tags": []
     },
     "output_type": "execute_result"
    }
   ],
   "source": [
    "line = nums(eng_data[0], eng_word2idx,  eng_idx2word)\n",
    "print([eng_idx2word[idx] for idx in line])\n",
    "eng_data[0]"
   ]
  },
  {
   "cell_type": "code",
   "execution_count": null,
   "metadata": {
    "id": "27WlnoVXEUne"
   },
   "outputs": [],
   "source": [
    "def maxlen(data):\n",
    "    nax = 0\n",
    "    for line in data:\n",
    "        nax = max(nax, len(line.split()))\n",
    "    return nax"
   ]
  },
  {
   "cell_type": "code",
   "execution_count": null,
   "metadata": {
    "id": "SvHGrqNWEWCr"
   },
   "outputs": [],
   "source": [
    "lens = []\n",
    "for line in eng_data:\n",
    "  lens.append(len(line.split()))"
   ]
  },
  {
   "cell_type": "code",
   "execution_count": null,
   "metadata": {
    "colab": {
     "base_uri": "https://localhost:8080/"
    },
    "id": "0y3vauFMEYd5",
    "outputId": "9721ab8d-9c3d-4291-d1a0-0be7fb2d9cb9"
   },
   "outputs": [
    {
     "data": {
      "text/plain": [
       "77009"
      ]
     },
     "execution_count": 23,
     "metadata": {
      "tags": []
     },
     "output_type": "execute_result"
    }
   ],
   "source": [
    "cnt = 0\n",
    "for size in lens:\n",
    "  if size <= 10:\n",
    "    cnt += 1\n",
    "cnt"
   ]
  },
  {
   "cell_type": "code",
   "execution_count": null,
   "metadata": {
    "id": "x0e-WtTwEZXd"
   },
   "outputs": [],
   "source": [
    "train_data = []\n",
    "train_target = []\n",
    "for i, sent in enumerate(fr_data):\n",
    "  if len(sent.split()) <= 10 and len(eng_data[i].split()) <= 10:\n",
    "    # l = sent.split()\n",
    "    # l.reverse()\n",
    "    # sent = \" \".join(word for word in l)\n",
    "    train_data.append(sent)\n",
    "    train_target.append(eng_data[i])"
   ]
  },
  {
   "cell_type": "code",
   "execution_count": null,
   "metadata": {
    "colab": {
     "base_uri": "https://localhost:8080/",
     "height": 37
    },
    "id": "vUgpGhUZWyW4",
    "outputId": "bb1b8def-ef65-44c8-aa9f-b7236b47eeb9"
   },
   "outputs": [
    {
     "data": {
      "application/vnd.google.colaboratory.intrinsic+json": {
       "type": "string"
      },
      "text/plain": [
       "'david gallo voici bill lange je suis dave gallo'"
      ]
     },
     "execution_count": 25,
     "metadata": {
      "tags": []
     },
     "output_type": "execute_result"
    }
   ],
   "source": [
    "train_data[0]"
   ]
  },
  {
   "cell_type": "code",
   "execution_count": null,
   "metadata": {
    "colab": {
     "base_uri": "https://localhost:8080/"
    },
    "id": "ljILTpKMEajK",
    "outputId": "b70500ed-099c-4dcf-af31-8813a8b61a9b"
   },
   "outputs": [
    {
     "data": {
      "text/plain": [
       "(294, 294)"
      ]
     },
     "execution_count": 26,
     "metadata": {
      "tags": []
     },
     "output_type": "execute_result"
    }
   ],
   "source": [
    "val_data = []\n",
    "val_target = []\n",
    "for i, sent in enumerate(fr_val):\n",
    "  if len(sent.split()) <= 10 and len(eng_val[i].split()) <= 10:\n",
    "    # l = sent.split()\n",
    "    # l.reverse()\n",
    "    # sent = \" \".join(word for word in l)\n",
    "    val_data.append(sent)\n",
    "    val_target.append(eng_val[i])\n",
    "len(val_data), len(val_target)"
   ]
  },
  {
   "cell_type": "code",
   "execution_count": null,
   "metadata": {
    "id": "hFPTBBRAEbfD"
   },
   "outputs": [],
   "source": [
    "def nums(sentence, word2idx, idx2word):\n",
    "    line = sentence.split()\n",
    "    res = [0]\n",
    "    for word in line:\n",
    "        if word in word2idx.keys():\n",
    "            res.append(word2idx[word])\n",
    "            continue\n",
    "        res.append(word2idx['<unk>'])\n",
    "    res.append(1)\n",
    "    return res"
   ]
  },
  {
   "cell_type": "code",
   "execution_count": null,
   "metadata": {
    "id": "-leHz4S4EdFd"
   },
   "outputs": [],
   "source": [
    "def pad_seqr(pad, data, padding):\n",
    "  size = len(data)\n",
    "  padded = np.zeros((size, pad+2))\n",
    "  for i in range(size):\n",
    "    for j, k in enumerate(data[i]):\n",
    "      padded[i][pad+1-j] = k\n",
    "    for j in range(len(data[i]), pad+2):\n",
    "      padded[i][pad+1-j] = padding\n",
    "  padded = padded.astype('int32')\n",
    "  return padded\n",
    "\n",
    "def pad_seq(pad, data, padding):\n",
    "  size = len(data)\n",
    "  padded = np.zeros((size, pad+2))\n",
    "  for i in range(size):\n",
    "    for j, k in enumerate(data[i]):\n",
    "      padded[i][j] = k\n",
    "    for j in range(len(data[i]), pad+2):\n",
    "      padded[i][j] = padding\n",
    "  padded = padded.astype('int32')\n",
    "  return padded"
   ]
  },
  {
   "cell_type": "code",
   "execution_count": null,
   "metadata": {
    "id": "NamMNsr6EeIz"
   },
   "outputs": [],
   "source": [
    "tokenized_train = [nums(sent, fr_word2idx, fr_idx2word) for sent in train_data]\n",
    "tokenized_target = [nums(sent, eng_word2idx, eng_idx2word) for sent in train_target]"
   ]
  },
  {
   "cell_type": "code",
   "execution_count": null,
   "metadata": {
    "colab": {
     "base_uri": "https://localhost:8080/"
    },
    "id": "VFvGeymNEfS-",
    "outputId": "8363ef8e-e090-469e-e98e-f1f130dc6eab"
   },
   "outputs": [
    {
     "data": {
      "text/plain": [
       "12"
      ]
     },
     "execution_count": 30,
     "metadata": {
      "tags": []
     },
     "output_type": "execute_result"
    }
   ],
   "source": [
    "nax = 0\n",
    "for line in tokenized_train:\n",
    "  nax = max(len(line), nax)\n",
    "nax"
   ]
  },
  {
   "cell_type": "code",
   "execution_count": null,
   "metadata": {
    "id": "boJlWZGxEgWN"
   },
   "outputs": [],
   "source": [
    "# pad_eng = pad_seq(40, tokenized_eng, 2)\n",
    "pad_train = pad_seq(10, tokenized_train, 2)\n",
    "pad_target = pad_seq(10, tokenized_target, 2)"
   ]
  },
  {
   "cell_type": "code",
   "execution_count": null,
   "metadata": {
    "colab": {
     "base_uri": "https://localhost:8080/"
    },
    "id": "kszpsu5j1rlU",
    "outputId": "4117fffa-45b6-44a8-b427-c66b9721f1f5"
   },
   "outputs": [
    {
     "data": {
      "text/plain": [
       "(66148, 12)"
      ]
     },
     "execution_count": 35,
     "metadata": {
      "tags": []
     },
     "output_type": "execute_result"
    }
   ],
   "source": [
    "pad_train.shape"
   ]
  },
  {
   "cell_type": "code",
   "execution_count": null,
   "metadata": {
    "id": "jorJ-EFv1z5r"
   },
   "outputs": [],
   "source": [
    "idxs = np.random.choice(pad_train.shape[0], 50000, replace=False)"
   ]
  },
  {
   "cell_type": "code",
   "execution_count": null,
   "metadata": {
    "id": "BOG9_5Nu13ow"
   },
   "outputs": [],
   "source": [
    "pad_train = pad_train[idxs]\n",
    "pad_target = pad_target[idxs]"
   ]
  },
  {
   "cell_type": "code",
   "execution_count": null,
   "metadata": {
    "colab": {
     "base_uri": "https://localhost:8080/"
    },
    "id": "l50QLrUxEhFO",
    "outputId": "b8331b52-4f08-4bfa-9f01-f18faac47dec"
   },
   "outputs": [
    {
     "name": "stdout",
     "output_type": "stream",
     "text": [
      "<start> la profondeur moyenne est environ km <end> <pad> <pad> <pad> <pad>\n",
      "<start> the average depth is about two miles <end> <pad> <pad> <pad>\n"
     ]
    }
   ],
   "source": [
    "print(\" \".join(word for word in [fr_idx2word[idx] for idx in pad_train[2]]))\n",
    "print(\" \".join(word for word in [eng_idx2word[idx] for idx in pad_target[2]]))"
   ]
  },
  {
   "cell_type": "code",
   "execution_count": null,
   "metadata": {
    "id": "gPktLQkxEicF"
   },
   "outputs": [],
   "source": [
    "class TrainDataset(Dataset):\n",
    "  def __init__(self, train_data, train_target):\n",
    "    self.train = train_data\n",
    "    self.target = train_target\n",
    "  def __len__(self):\n",
    "    return len(self.train)\n",
    "  def __getitem__(self, idx):\n",
    "    return self.train[idx], self.target[idx]"
   ]
  },
  {
   "cell_type": "code",
   "execution_count": null,
   "metadata": {
    "id": "p8NZTeEBEje3"
   },
   "outputs": [],
   "source": [
    "BATCH_SIZE = 32"
   ]
  },
  {
   "cell_type": "code",
   "execution_count": null,
   "metadata": {
    "id": "7V_2bm-IFFcP"
   },
   "outputs": [],
   "source": [
    "data = TrainDataset(pad_train, pad_target)\n",
    "train_loader = DataLoader(data, batch_size=BATCH_SIZE, shuffle=True, drop_last=True)\n",
    "# train_loader = train_loader.to(device)"
   ]
  },
  {
   "cell_type": "code",
   "execution_count": null,
   "metadata": {
    "id": "t3UmficpFGhl"
   },
   "outputs": [],
   "source": [
    "train, target = next(iter(train_loader))"
   ]
  },
  {
   "cell_type": "code",
   "execution_count": null,
   "metadata": {
    "colab": {
     "base_uri": "https://localhost:8080/"
    },
    "id": "ht0plpbfFH35",
    "outputId": "72b5ca1c-a942-4b96-cc09-7c3c7dcd5ce7"
   },
   "outputs": [
    {
     "data": {
      "text/plain": [
       "torch.int32"
      ]
     },
     "execution_count": 41,
     "metadata": {
      "tags": []
     },
     "output_type": "execute_result"
    }
   ],
   "source": [
    "target.dtype"
   ]
  },
  {
   "cell_type": "code",
   "execution_count": null,
   "metadata": {
    "id": "USipLdwuFIpO"
   },
   "outputs": [],
   "source": [
    "class Encoder(nn.Module):\n",
    "    def __init__(self, input_vocab_size, embedding_dim, enc_units, dropout=0):\n",
    "        super(Encoder, self).__init__()\n",
    "        self.enc_units = enc_units\n",
    "        self.embedding = nn.Embedding(input_vocab_size, embedding_dim)\n",
    "        # self.gru = nn.GRU(embedding_dim, enc_units, batch_first=True, dropout=drop)\n",
    "        self.gru = nn.GRU(embedding_dim, enc_units, batch_first=True)\n",
    "    \n",
    "    def forward(self, x):\n",
    "        x = self.embedding(x)\n",
    "        out, h = self.gru(x)\n",
    "        return out, h\n",
    "    \n",
    "    def initHidden(self, batch_size):\n",
    "      hidden = torch.zeros(batch_size, self.enc_units, device=device)\n",
    "      return hidden"
   ]
  },
  {
   "cell_type": "code",
   "execution_count": null,
   "metadata": {
    "id": "CjMR-yW4ZIf5"
   },
   "outputs": [],
   "source": [
    "class EncoderLSTM(nn.Module):\n",
    "    def __init__(self, input_vocab_size, embedding_dim, enc_units, dropout=0):\n",
    "        super(EncoderLSTM, self).__init__()\n",
    "        self.enc_units = enc_units\n",
    "        self.embedding = nn.Embedding(input_vocab_size, embedding_dim)\n",
    "        self.lstm = nn.LSTM(embedding_dim, enc_units, batch_first=True)\n",
    "    \n",
    "    def forward(self, x):\n",
    "        x = self.embedding(x)\n",
    "        out, (h, c) = self.lstm(x)\n",
    "        return out, h, c\n",
    "    \n",
    "    def initHidden(self, batch_size):\n",
    "      hidden = torch.zeros(batch_size, self.enc_units, device=device)\n",
    "      return hidden"
   ]
  },
  {
   "cell_type": "code",
   "execution_count": null,
   "metadata": {
    "id": "Lzy4bWa9ZONa"
   },
   "outputs": [],
   "source": [
    "class DecoderLSTMv2(nn.Module):\n",
    "  def __init__(self, output_vocab_size, embedding_dim, dec_units):\n",
    "    super(DecoderLSTMv2, self).__init__()\n",
    "    self.embedding = nn.Embedding(output_vocab_size, embedding_dim)\n",
    "    self.Wc = nn.Linear(2*dec_units, dec_units)\n",
    "    self.Ws = nn.Linear(dec_units, output_vocab_size)\n",
    "    self.lstm = nn.LSTM(embedding_dim+12, dec_units, batch_first=True)\n",
    "    self.tanh = nn.Tanh()\n",
    "    self.softmax = nn.Softmax(dim=1)\n",
    "    self.dec_units = dec_units\n",
    "    self.embedding_dim = embedding_dim\n",
    "\n",
    "  def forward(self, x, values, hidden, context, attention):\n",
    "    x = self.embedding(x)\n",
    "    # print(\"X Shape:\", x.shape, \"Attention Shape:\", attention.shape)\n",
    "    x = torch.cat((x, attention), 2)\n",
    "    # print(\"X shape:\", x.shape, \"HiddenShape:\", hidden.shape)\n",
    "    # Shape of X is (Batch_Size, 1, Embedding_dim)\n",
    "    o, (ht, c0) = self.lstm(x, (hidden,context))\n",
    "    # print(\"O Shape:\",o.shape, \"ht shape:\", ht.shape)\n",
    "    # Shape of o is (Batch_Size, 1, Hidden_Units); Shape of h is (Batch_Size, 1, Hidden_units)\n",
    "    # Shape of Values is (Batch_Size, Seq_Len, Hidden_Units)\n",
    "    ht = ht.squeeze(dim=0)\n",
    "    ht = ht.unsqueeze(dim=-1)\n",
    "    # print(\"Values Shape:\", values.shape, \"ht shape:\", ht.shape)\n",
    "    et = torch.bmm(values, ht)\n",
    "    # Shape of et is (Batch Size, Seq_Len, 1)\n",
    "    # print(\"Et Shape:\", et.shape)\n",
    "    at = self.softmax(et)\n",
    "    # print(\"At Shape:\",at.shape)\n",
    "    # Shape of at is (Batch Size, Seq_Len, 1)\n",
    "    at = at.squeeze(dim=-1)\n",
    "    # print(\"At Shape:\",at.shape)\n",
    "    # Shape of at is (Batch Size, Seq_Len)\n",
    "    at = at.unsqueeze(dim=1)\n",
    "    # print(\"At Shape:\",at.shape)\n",
    "    # Shape of at is (Batch Size, 1, Seq_Len)\n",
    "    ct = torch.bmm(at, values)\n",
    "    # print(\"ct Shape:\",ct.shape)\n",
    "    # Shape of ct is (Batch Size, 1, d)\n",
    "    ht = ht.squeeze(dim=-1)\n",
    "    # print(\"Ht Shape:\",ht.shape)\n",
    "    ht = ht.unsqueeze(dim=1)\n",
    "    # print(\"Ht Shape:\",ht.shape)\n",
    "    att_vec = torch.cat((ht, ct), dim=-1)\n",
    "    # print(\"att_vec Shape:\",att_vec.shape)\n",
    "    # Shape of hp is (Batch Size, 1, 2*d)\n",
    "    hp = self.Wc(att_vec)\n",
    "    # print(\"Hp Shape:\",hp.shape)\n",
    "    # Shape of hp is (Batch Size, 1, d)\n",
    "    hp = self.tanh(hp)\n",
    "\n",
    "    preds = self.Ws(hp)\n",
    "    # print(\"preds Shape:\",preds.shape)\n",
    "    # Shape of Preds is (Batch Size, 1, output_vocab_size)\n",
    "    return preds, ct, ht, at, c0\n",
    "  def initHidden(self, batch_size):\n",
    "    hidden = torch.zeros(batch_size, self.dec_units, device=device)\n",
    "    return hidden"
   ]
  },
  {
   "cell_type": "code",
   "execution_count": null,
   "metadata": {
    "id": "8d6QcpLTFLPf"
   },
   "outputs": [],
   "source": [
    "class Decoder(nn.Module):\n",
    "  def __init__(self, output_vocab_size, embedding_dim, dec_units):\n",
    "    super(Decoder, self).__init__()\n",
    "    self.embedding = nn.Embedding(output_vocab_size, embedding_dim)\n",
    "    self.Wc = nn.Linear(2*dec_units, dec_units)\n",
    "    self.Ws = nn.Linear(dec_units, output_vocab_size)\n",
    "    self.gru = nn.GRU(embedding_dim, dec_units, batch_first=True)\n",
    "    self.tanh = nn.Tanh()\n",
    "    self.softmax = nn.Softmax(dim=1)\n",
    "    self.dec_units = dec_units\n",
    "    self.embedding_dim = embedding_dim\n",
    "\n",
    "  def forward(self, x, values, hidden):\n",
    "    x = self.embedding(x)\n",
    "    # print(\"X shape:\", x.shape, \"HiddenShape:\", hidden.shape)\n",
    "    # Shape of X is (Batch_Size, 1, Embedding_dim)\n",
    "    o, ht = self.gru(x, hidden)\n",
    "    # print(\"O Shape:\",o.shape, \"ht shape:\", ht.shape)\n",
    "    # Shape of o is (Batch_Size, 1, Hidden_Units); Shape of h is (Batch_Size, 1, Hidden_units)\n",
    "    # Shape of Values is (Batch_Size, Seq_Len, Hidden_Units)\n",
    "    ht = ht.squeeze(dim=0)\n",
    "    ht = ht.unsqueeze(dim=-1)\n",
    "    # print(\"Values Shape:\", values.shape, \"ht shape:\", ht.shape)\n",
    "    et = torch.bmm(values, ht)\n",
    "    # Shape of et is (Batch Size, Seq_Len, 1)\n",
    "    # print(\"Et Shape:\", et.shape)\n",
    "    at = self.softmax(et)\n",
    "    # print(\"At Shape:\",at.shape)\n",
    "    # Shape of at is (Batch Size, Seq_Len, 1)\n",
    "    at = at.squeeze(dim=-1)\n",
    "    # print(\"At Shape:\",at.shape)\n",
    "    # Shape of at is (Batch Size, Seq_Len)\n",
    "    at = at.unsqueeze(dim=1)\n",
    "    # print(\"At Shape:\",at.shape)\n",
    "    # Shape of at is (Batch Size, 1, Seq_Len)\n",
    "    ct = torch.bmm(at, values)\n",
    "    # print(\"ct Shape:\",ct.shape)\n",
    "    # Shape of ct is (Batch Size, 1, d)\n",
    "    ht = ht.squeeze(dim=-1)\n",
    "    # print(\"Ht Shape:\",ht.shape)\n",
    "    ht = ht.unsqueeze(dim=1)\n",
    "    # print(\"Ht Shape:\",ht.shape)\n",
    "    att_vec = torch.cat((ht, ct), dim=-1)\n",
    "    # print(\"att_vec Shape:\",att_vec.shape)\n",
    "    # Shape of hp is (Batch Size, 1, 2*d)\n",
    "    hp = self.Wc(att_vec)\n",
    "    # print(\"Hp Shape:\",hp.shape)\n",
    "    # Shape of hp is (Batch Size, 1, d)\n",
    "    hp = self.tanh(hp)\n",
    "\n",
    "    preds = self.Ws(hp)\n",
    "    # print(\"preds Shape:\",preds.shape)\n",
    "    # Shape of Preds is (Batch Size, 1, output_vocab_size)\n",
    "    return preds, ct, ht, at\n",
    "  def initHidden(self, batch_size):\n",
    "    hidden = torch.zeros(batch_size, self.dec_units, device=device)\n",
    "    return hidden"
   ]
  },
  {
   "cell_type": "code",
   "execution_count": null,
   "metadata": {
    "id": "GrpK-wOtFM_w"
   },
   "outputs": [],
   "source": [
    "encoder = Encoder(len(fr_word2idx.keys()), 512, 1024, dropout=0.4).to(device)\n",
    "decoder = Decoder(len(eng_word2idx.keys()), 512, 1024).to(device)"
   ]
  },
  {
   "cell_type": "code",
   "execution_count": null,
   "metadata": {
    "id": "0zwFA-Ydn22R"
   },
   "outputs": [],
   "source": [
    "dec_units = 1024\n",
    "encoderv2 = EncoderLSTM(len(fr_word2idx.keys()), 512, dec_units, dropout=0.2).to(device)\n",
    "decoderv2 = DecoderLSTMv2(len(eng_word2idx.keys()), 512, dec_units).to(device)\n",
    "criterion = nn.CrossEntropyLoss(reduction='none')\n",
    "lr = 0.0005\n",
    "encoderv2_optim = optim.Adam(encoderv2.parameters(), lr = lr)\n",
    "decoderv2_optim = optim.Adam(decoderv2.parameters(), lr = lr)"
   ]
  },
  {
   "cell_type": "code",
   "execution_count": null,
   "metadata": {
    "colab": {
     "base_uri": "https://localhost:8080/"
    },
    "id": "d73h7sOW7Dv-",
    "outputId": "7f901b22-a452-4af5-9169-08dc5bcef1d8"
   },
   "outputs": [
    {
     "data": {
      "text/plain": [
       "15004"
      ]
     },
     "execution_count": 48,
     "metadata": {
      "tags": []
     },
     "output_type": "execute_result"
    }
   ],
   "source": [
    "len(fr_word2idx.keys())"
   ]
  },
  {
   "cell_type": "code",
   "execution_count": null,
   "metadata": {
    "id": "v3WKMCiRFPmI"
   },
   "outputs": [],
   "source": [
    "# criterion = nn.CrossEntropyLoss(reduction='none')\n",
    "# lr = 0.0005\n",
    "# encoder_optim = optim.Adam(encoder_rev.parameters(), lr = lr)\n",
    "# decoder_optim = optim.Adam(decoder_rev.parameters(), lr = lr)"
   ]
  },
  {
   "cell_type": "code",
   "execution_count": null,
   "metadata": {
    "id": "KoAaCy6oFSw6"
   },
   "outputs": [],
   "source": [
    "def train_seq2seq_gru(encoder, decoder, encoder_optim, decoder_optim, traindata, EPOCHS=10):\n",
    "  step_losses, epoch_losses = [], []\n",
    "  length = 12\n",
    "  size = 66148\n",
    "  for epoch in range(1, EPOCHS+1):\n",
    "    total_loss = 0\n",
    "    step_loss = 0\n",
    "    for i, data in enumerate(traindata):\n",
    "      train, target = data\n",
    "      train = train.to(device)\n",
    "      target = target.to(device)\n",
    "      train, target = train.type(torch.long), target.type(torch.long)\n",
    "      encoder_optim.zero_grad()\n",
    "      decoder_optim.zero_grad()\n",
    "      loss = 0\n",
    "      enc_h = encoder.initHidden(BATCH_SIZE)\n",
    "      enc_out, h = encoder(train)\n",
    "      dec_h = h\n",
    "      dec_inp = train[:,0]\n",
    "      # print(\"Enc Out Shape:\", enc_out.shape)\n",
    "      # print(\"Dec Inp Shape:\", dec_inp.shape)\n",
    "      \n",
    "      for j in range(length-1):\n",
    "        dec_inp = dec_inp.unsqueeze(dim=1)\n",
    "        # print(\"Dec_INp Shape:\", dec_inp.shape)\n",
    "        dec_out, ct, dec_h, _ = decoder(dec_inp, enc_out, dec_h)\n",
    "        dec_out = dec_out.squeeze(dim=1)\n",
    "        loss_v = criterion(dec_out, target[:,j+1])\n",
    "        # print(\"Loss_V:\", loss_v)\n",
    "        # print(\"Loss_V.mean:\", loss_v.mean())\n",
    "        # exit()\n",
    "        mult = (target[:,j+1] != 2)*1\n",
    "        loss_v = (loss_v*mult)\n",
    "        loss += loss_v.mean()\n",
    "        total_loss += loss_v.mean().item()\n",
    "        dec_inp = target[:,j+1]\n",
    "        dec_h = dec_h.squeeze(dim=1)\n",
    "        dec_h = dec_h.unsqueeze(dim=0)\n",
    "        step_loss += loss_v.mean().item()\n",
    "      if (i+1) % 200 == 0:\n",
    "        print(\"Epoch : {} Step Loss :{:.4f} I:{}\".format(epoch, step_loss / (BATCH_SIZE*200), i+1))\n",
    "        step_losses.append(step_loss / (BATCH_SIZE*200))\n",
    "        step_loss = 0\n",
    "      loss.backward()\n",
    "      encoder_optim.step()\n",
    "      decoder_optim.step()\n",
    "    epoch_losses.append(total_loss / (size))\n",
    "    print(\"Epoch : {} Loss : {:.4f}\".format(epoch,  total_loss / (size)))\n",
    "  return step_losses, epoch_losses"
   ]
  },
  {
   "cell_type": "code",
   "execution_count": null,
   "metadata": {
    "id": "4sXIKau_aFez"
   },
   "outputs": [],
   "source": [
    "def train_seq2seq(encoder, decoder, encoder_optim, decoder_optim, traindata, EPOCHS=10):\n",
    "  step_losses, epoch_losses = [], []\n",
    "  length = 12\n",
    "  size = 66148\n",
    "  for epoch in range(1, EPOCHS+1):\n",
    "    total_loss = 0\n",
    "    step_loss = 0\n",
    "    for i, data in enumerate(traindata):\n",
    "      train, target = data\n",
    "      train = train.to(device)\n",
    "      target = target.to(device)\n",
    "      train, target = train.type(torch.long), target.type(torch.long)\n",
    "      encoder_optim.zero_grad()\n",
    "      decoder_optim.zero_grad()\n",
    "      loss = 0\n",
    "      enc_h = encoder.initHidden(BATCH_SIZE)\n",
    "      enc_out, h, c0 = encoder(train)\n",
    "      dec_h = h\n",
    "      dec_c = c0\n",
    "      dec_inp = train[:,0]\n",
    "      attention = torch.zeros((BATCH_SIZE, 1, 12), device=device, dtype=torch.long)\n",
    "      # attention.dtype = torch.long\n",
    "      # print(\"Enc Out Shape:\", enc_out.shape)\n",
    "      # print(\"Dec Inp Shape:\", dec_inp.shape)\n",
    "      \n",
    "      for j in range(length-1):\n",
    "        dec_inp = dec_inp.unsqueeze(dim=1)\n",
    "        # print(\"Dec_INp Shape:\", dec_inp.shape)\n",
    "        # print(\"Dec C BeforeShape:\",dec_c.shape, \"Dec H BeforeShape:\", dec_h.shape)\n",
    "        dec_out, ct, dec_h, attention, dec_c = decoder(dec_inp, enc_out, dec_h, dec_c, attention)\n",
    "        # print(\"Dec C Shape:\",dec_c.shape, \"Dec H Shape:\", dec_h.shape)\n",
    "        # print(\"Attention Shape:\",attention.shape)\n",
    "        # break\n",
    "        dec_out = dec_out.squeeze(dim=1)\n",
    "        loss_v = criterion(dec_out, target[:,j+1])\n",
    "        # print(\"Loss_V:\", loss_v)\n",
    "        # print(\"Loss_V.mean:\", loss_v.mean())\n",
    "        # exit()\n",
    "        mult = (target[:,j+1] != 2)*1\n",
    "        loss_v = (loss_v*mult)\n",
    "        loss += loss_v.mean()\n",
    "        total_loss += loss_v.mean().item()\n",
    "        dec_inp = target[:,j+1]\n",
    "        dec_h = dec_h.squeeze(dim=1)\n",
    "        dec_h = dec_h.unsqueeze(dim=0)\n",
    "        # dec_c = dec_c.squeeze(dim=0)\n",
    "        # dec_c = dec_c.unsqueeze(dim=1)\n",
    "        step_loss += loss_v.mean().item()\n",
    "      if (i+1) % 1000 == 0:\n",
    "        print(\"Epoch : {} Step Loss :{:.4f} I:{}\".format(epoch, step_loss / (BATCH_SIZE*1000), i+1))\n",
    "        step_losses.append(step_loss / (BATCH_SIZE*1000))\n",
    "        step_loss = 0\n",
    "      # print(\"Loss\",loss)\n",
    "      loss.backward()\n",
    "      encoder_optim.step()\n",
    "      decoder_optim.step()\n",
    "    epoch_losses.append(total_loss / (size))\n",
    "    print(\"Epoch : {} Loss : {:.4f}\".format(epoch,  total_loss / (size)))\n",
    "  return step_losses, epoch_losses"
   ]
  },
  {
   "cell_type": "code",
   "execution_count": null,
   "metadata": {
    "colab": {
     "base_uri": "https://localhost:8080/"
    },
    "id": "zQ_1PrO6axyv",
    "outputId": "3427ee1a-4805-4bc0-e27a-9aef39a7e73e"
   },
   "outputs": [
    {
     "name": "stdout",
     "output_type": "stream",
     "text": [
      "Epoch : 1 Step Loss :1.0860 I:1000\n",
      "Epoch : 1 Step Loss :0.8085 I:2000\n",
      "Epoch : 1 Loss : 0.9407\n",
      "Epoch : 2 Step Loss :0.6279 I:1000\n",
      "Epoch : 2 Step Loss :0.6098 I:2000\n",
      "Epoch : 2 Loss : 0.6179\n",
      "Epoch : 3 Step Loss :0.4479 I:1000\n",
      "Epoch : 3 Step Loss :0.4729 I:2000\n",
      "Epoch : 3 Loss : 0.4608\n",
      "Epoch : 4 Step Loss :0.3288 I:1000\n",
      "Epoch : 4 Step Loss :0.3576 I:2000\n",
      "Epoch : 4 Loss : 0.3439\n",
      "Epoch : 5 Step Loss :0.2381 I:1000\n",
      "Epoch : 5 Step Loss :0.2673 I:2000\n",
      "Epoch : 5 Loss : 0.2535\n",
      "Epoch : 6 Step Loss :0.1747 I:1000\n",
      "Epoch : 6 Step Loss :0.2011 I:2000\n",
      "Epoch : 6 Loss : 0.1886\n",
      "Epoch : 7 Step Loss :0.1343 I:1000\n",
      "Epoch : 7 Step Loss :0.1579 I:2000\n",
      "Epoch : 7 Loss : 0.1469\n",
      "Epoch : 8 Step Loss :0.1084 I:1000\n",
      "Epoch : 8 Step Loss :0.1293 I:2000\n",
      "Epoch : 8 Loss : 0.1194\n",
      "Epoch : 9 Step Loss :0.0917 I:1000\n",
      "Epoch : 9 Step Loss :0.1093 I:2000\n",
      "Epoch : 9 Loss : 0.1010\n",
      "Epoch : 10 Step Loss :0.0773 I:1000\n",
      "Epoch : 10 Step Loss :0.0958 I:2000\n",
      "Epoch : 10 Loss : 0.0870\n",
      "Epoch : 11 Step Loss :0.0670 I:1000\n",
      "Epoch : 11 Step Loss :0.0828 I:2000\n",
      "Epoch : 11 Loss : 0.0755\n",
      "Epoch : 12 Step Loss :0.0574 I:1000\n",
      "Epoch : 12 Step Loss :0.0727 I:2000\n",
      "Epoch : 12 Loss : 0.0656\n",
      "Epoch : 13 Step Loss :0.0501 I:1000\n",
      "Epoch : 13 Step Loss :0.0636 I:2000\n",
      "Epoch : 13 Loss : 0.0573\n",
      "Epoch : 14 Step Loss :0.0448 I:1000\n",
      "Epoch : 14 Step Loss :0.0574 I:2000\n",
      "Epoch : 14 Loss : 0.0515\n",
      "Epoch : 15 Step Loss :0.0408 I:1000\n",
      "Epoch : 15 Step Loss :0.0522 I:2000\n",
      "Epoch : 15 Loss : 0.0469\n",
      "Epoch : 16 Step Loss :0.0348 I:1000\n",
      "Epoch : 16 Step Loss :0.0485 I:2000\n",
      "Epoch : 16 Loss : 0.0420\n",
      "Epoch : 17 Step Loss :0.0327 I:1000\n",
      "Epoch : 17 Step Loss :0.0447 I:2000\n",
      "Epoch : 17 Loss : 0.0391\n",
      "Epoch : 18 Step Loss :0.0311 I:1000\n",
      "Epoch : 18 Step Loss :0.0420 I:2000\n",
      "Epoch : 18 Loss : 0.0368\n",
      "Epoch : 19 Step Loss :0.0287 I:1000\n",
      "Epoch : 19 Step Loss :0.0395 I:2000\n",
      "Epoch : 19 Loss : 0.0344\n",
      "Epoch : 20 Step Loss :0.0280 I:1000\n",
      "Epoch : 20 Step Loss :0.0384 I:2000\n",
      "Epoch : 20 Loss : 0.0336\n"
     ]
    }
   ],
   "source": [
    "step_loss, epoch_loss = train_seq2seq_lstm(encoderv2, decoderv2, encoderv2_optim, decoderv2_optim, train_loader, 20)"
   ]
  },
  {
   "cell_type": "code",
   "execution_count": null,
   "metadata": {
    "id": "qakFB33-ZLe4"
   },
   "outputs": [],
   "source": [
    "# step_loss, epoch_loss = train_seq2seq(encoder, decoder, encoder_optim, decoder_optim, train_loader, 20)"
   ]
  },
  {
   "cell_type": "code",
   "execution_count": null,
   "metadata": {
    "id": "ctXryjGqaWWG"
   },
   "outputs": [],
   "source": [
    "# step_loss, epoch_loss = train_seq2seq_lstm(encoderv2, decoderv2, encoderv2_optim, decoderv2_optim, train_loader, 20)"
   ]
  },
  {
   "cell_type": "code",
   "execution_count": null,
   "metadata": {
    "id": "AVAEZxi_oBSO"
   },
   "outputs": [],
   "source": [
    "# step_loss, epoch_loss = train_seq2seq(encoder_rev, decoder_rev, encoder_optim, decoder_optim, train_loader, 15)"
   ]
  },
  {
   "cell_type": "code",
   "execution_count": null,
   "metadata": {
    "id": "xw6hhRA1FWpN"
   },
   "outputs": [],
   "source": [
    "# step_loss, epoch_loss = train_seq2seq(encoder, decoder, encoder_optim, decoder_optim, train_loader, 14)"
   ]
  },
  {
   "cell_type": "code",
   "execution_count": null,
   "metadata": {
    "id": "m0r8q9DwUmc3"
   },
   "outputs": [],
   "source": [
    "# step_loss, epoch_loss = train_seq2seq(encoder, decoder, encoder_optim, decoder_optim, train_loader, 10)"
   ]
  },
  {
   "cell_type": "code",
   "execution_count": null,
   "metadata": {
    "colab": {
     "base_uri": "https://localhost:8080/",
     "height": 282
    },
    "id": "wfgIj-QvUYXX",
    "outputId": "753f19c5-ca75-4e86-b702-3c033ef43fe2"
   },
   "outputs": [
    {
     "data": {
      "text/plain": [
       "[<matplotlib.lines.Line2D at 0x7efd9f34edd0>]"
      ]
     },
     "execution_count": 119,
     "metadata": {
      "tags": []
     },
     "output_type": "execute_result"
    },
    {
     "data": {
      "image/png": "[encoded data removed]",
      "text/plain": [
       "<Figure size 432x288 with 1 Axes>"
      ]
     },
     "metadata": {
      "needs_background": "light",
      "tags": []
     },
     "output_type": "display_data"
    }
   ],
   "source": [
    "plt.plot(step_loss)"
   ]
  },
  {
   "cell_type": "code",
   "execution_count": null,
   "metadata": {
    "colab": {
     "base_uri": "https://localhost:8080/",
     "height": 282
    },
    "id": "-uKwup2jUcHc",
    "outputId": "8674313c-52ab-4fda-f217-eab7c18767f1"
   },
   "outputs": [
    {
     "data": {
      "text/plain": [
       "[<matplotlib.lines.Line2D at 0x7efd9f33eed0>]"
      ]
     },
     "execution_count": 120,
     "metadata": {
      "tags": []
     },
     "output_type": "execute_result"
    },
    {
     "data": {
      "image/png": "[encoded data removed]",
      "text/plain": [
       "<Figure size 432x288 with 1 Axes>"
      ]
     },
     "metadata": {
      "needs_background": "light",
      "tags": []
     },
     "output_type": "display_data"
    }
   ],
   "source": [
    "plt.plot(epoch_loss)"
   ]
  },
  {
   "cell_type": "code",
   "execution_count": null,
   "metadata": {
    "id": "MTbZ1ZqrpZzA"
   },
   "outputs": [],
   "source": [
    "def predictv2(encoder, decoder, sent):\n",
    "  sent = sent.unsqueeze(dim=0)\n",
    "  sent = torch.tensor(sent).to(device)\n",
    "  enc_h = encoder.initHidden(BATCH_SIZE)\n",
    "  enc_out, h, dec_c = encoder(sent)\n",
    "  enc_out = enc_out.to(device)\n",
    "  h = h.to(device)\n",
    "  dec_h = h\n",
    "  dec_inp = torch.tensor([[0]]).to(device)\n",
    "  arr = [0]\n",
    "  size = 0\n",
    "  attentions = []\n",
    "  attn = torch.zeros((1, 1, sent.shape[1]), device=device, dtype=torch.long)\n",
    "  # print(\"Enc out shape:\", enc_out.shape)\n",
    "  possible = [[1, 0, dec_inp, dec_h, attn, dec_c] for _ in range(beam_size)]\n",
    "  while size < 100 and dec_inp.item() != 1:\n",
    "    # print(\"Dec_inp\",dec_inp.shape, attn.shape)\n",
    "    dec_out, ct, dec_h, attn, dec_c = decoder(dec_inp, enc_out, dec_h, dec_c, attn)\n",
    "    # print(\"attn\",attn.shape)\n",
    "    val = dec_out.argmax().item()\n",
    "    # print(\"Val\",val)\n",
    "    attentions.append(attn.cpu().numpy())\n",
    "    arr.append(val)\n",
    "    dec_inp = torch.tensor([[val]], device=device)\n",
    "    dec_h = dec_h.squeeze(dim=1)\n",
    "    dec_h = dec_h.unsqueeze(dim=0)\n",
    "    size += 1\n",
    "  return arr, attentions"
   ]
  },
  {
   "cell_type": "code",
   "execution_count": null,
   "metadata": {
    "id": "qqVFqcEf7q0G"
   },
   "outputs": [],
   "source": [
    "def predictv2(encoder, decoder, sent, beam_size):\n",
    "  sent = sent.unsqueeze(dim=0)\n",
    "  sent = torch.tensor(sent).to(device)\n",
    "  enc_h = encoder.initHidden(BATCH_SIZE)\n",
    "  enc_out, h, dec_c = encoder(sent)\n",
    "  enc_out = enc_out.to(device)\n",
    "  h = h.to(device)\n",
    "  dec_h = h\n",
    "  dec_inp = torch.tensor([[0]]).to(device)\n",
    "  arr = [0]\n",
    "  size = 0\n",
    "  attentions = []\n",
    "  attn = torch.zeros((1, 1, sent.shape[1]), device=device, dtype=torch.long)\n",
    "  # print(\"Enc out shape:\", enc_out.shape)\n",
    "  possible = [[1, 0, dec_inp, dec_h, attn, dec_c] for _ in range(beam_size)]\n",
    "  results = []\n",
    "  while size < 100 and dec_inp.item() != 1:\n",
    "    # print(\"Dec_inp\",dec_inp.shape, attn.shape)\n",
    "    dec_out, ct, dec_h, attn, dec_c = decoder(dec_inp, enc_out, dec_h, dec_c, attn)\n",
    "    # print(\"attn\",attn.shape)\n",
    "    val = dec_out.argmax().item()\n",
    "    # print(\"Val\",val)\n",
    "    attentions.append(attn.cpu().numpy())\n",
    "    arr.append(val)\n",
    "    dec_inp = torch.tensor([[val]], device=device)\n",
    "    dec_h = dec_h.squeeze(dim=1)\n",
    "    dec_h = dec_h.unsqueeze(dim=0)\n",
    "    size += 1\n",
    "  return arr, attentions"
   ]
  },
  {
   "cell_type": "code",
   "execution_count": null,
   "metadata": {
    "id": "FjduJk53Gz4K"
   },
   "outputs": [],
   "source": [
    "def predict(encoder, decoder, sent):\n",
    "  sent = sent.unsqueeze(dim=0)\n",
    "  sent = torch.tensor(sent).to(device)\n",
    "  enc_h = encoder.initHidden(BATCH_SIZE)\n",
    "  enc_out, h = encoder(sent)\n",
    "  enc_out = enc_out.to(device)\n",
    "  h = h.to(device)\n",
    "  dec_h = h\n",
    "  dec_inp = torch.tensor([[0]]).to(device)\n",
    "  arr = [0]\n",
    "  size = 0\n",
    "  attentions = []\n",
    "  \n",
    "  while size < 100 and dec_inp.item() != 1:\n",
    "    dec_out, ct, dec_h, attn = decoder(dec_inp, enc_out, dec_h)\n",
    "    val = dec_out.argmax().item()\n",
    "    # print(\"Val\",val)\n",
    "    attentions.append(attn.cpu().numpy())\n",
    "    arr.append(val)\n",
    "    dec_inp = torch.tensor([[val]], device=device)\n",
    "    dec_h = dec_h.squeeze(dim=1)\n",
    "    dec_h = dec_h.unsqueeze(dim=0)\n",
    "    size += 1\n",
    "  return arr, attentions"
   ]
  },
  {
   "cell_type": "code",
   "execution_count": null,
   "metadata": {
    "id": "WAwmbwTLS9Gd"
   },
   "outputs": [],
   "source": [
    "def tokenize_sent(sent):\n",
    "  sent = clean_line(sent)\n",
    "  tokenized = nums(sent, fr_word2idx, fr_idx2word)\n",
    "  return np.array(tokenized)"
   ]
  },
  {
   "cell_type": "code",
   "execution_count": null,
   "metadata": {
    "colab": {
     "base_uri": "https://localhost:8080/"
    },
    "id": "n6WFrLLM6EDt",
    "outputId": "350923ea-a363-4909-bcbc-219bc0297778"
   },
   "outputs": [
    {
     "data": {
      "text/plain": [
       "59359"
      ]
     },
     "execution_count": 89,
     "metadata": {
      "tags": []
     },
     "output_type": "execute_result"
    }
   ],
   "source": [
    "idxs[0]"
   ]
  },
  {
   "cell_type": "code",
   "execution_count": null,
   "metadata": {
    "id": "LBJ-rqGTTfxN"
   },
   "outputs": [],
   "source": [
    "encoderv2 = encoderv2.eval()"
   ]
  },
  {
   "cell_type": "code",
   "execution_count": null,
   "metadata": {
    "id": "xSk6pTW8sW8i"
   },
   "outputs": [],
   "source": [
    "def pad_seq(pad, data, padding):\n",
    "  size = len(data)\n",
    "  padded = np.zeros((size, pad+2))\n",
    "  for i in range(size):\n",
    "    for j, k in enumerate(data[i]):\n",
    "      padded[i][j] = k\n",
    "    for j in range(len(data[i]), pad+2):\n",
    "      padded[i][j] = padding\n",
    "  padded = padded.astype('int32')\n",
    "  return padded"
   ]
  },
  {
   "cell_type": "code",
   "execution_count": null,
   "metadata": {
    "colab": {
     "base_uri": "https://localhost:8080/"
    },
    "id": "PK-DVC9PTvwd",
    "outputId": "3926dc55-14af-4387-bc6d-a426ed933f2f"
   },
   "outputs": [
    {
     "name": "stderr",
     "output_type": "stream",
     "text": [
      "/usr/local/lib/python3.7/dist-packages/ipykernel_launcher.py:3: UserWarning: To copy construct from a tensor, it is recommended to use sourceTensor.clone().detach() or sourceTensor.clone().detach().requires_grad_(True), rather than torch.tensor(sourceTensor).\n",
      "  This is separate from the ipykernel package so we can avoid doing imports until\n",
      "/usr/local/lib/python3.7/dist-packages/nltk/translate/bleu_score.py:490: UserWarning: \n",
      "Corpus/Sentence contains 0 counts of 2-gram overlaps.\n",
      "BLEU scores might be undesirable; use SmoothingFunction().\n",
      "  warnings.warn(_msg)\n",
      "/usr/local/lib/python3.7/dist-packages/nltk/translate/bleu_score.py:490: UserWarning: \n",
      "Corpus/Sentence contains 0 counts of 3-gram overlaps.\n",
      "BLEU scores might be undesirable; use SmoothingFunction().\n",
      "  warnings.warn(_msg)\n"
     ]
    },
    {
     "name": "stdout",
     "output_type": "stream",
     "text": [
      "Target:\n",
      "and i was distraught\n",
      "Output:\n",
      "<start> and i was really thrilled <end>\n",
      "--------------------------------------------------------------------------\n",
      "Target:\n",
      "these are lines of information\n",
      "Output:\n",
      "<start> its about <unk> information <end>\n",
      "--------------------------------------------------------------------------\n"
     ]
    },
    {
     "name": "stderr",
     "output_type": "stream",
     "text": [
      "/usr/local/lib/python3.7/dist-packages/nltk/translate/bleu_score.py:490: UserWarning: \n",
      "Corpus/Sentence contains 0 counts of 4-gram overlaps.\n",
      "BLEU scores might be undesirable; use SmoothingFunction().\n",
      "  warnings.warn(_msg)\n"
     ]
    },
    {
     "name": "stdout",
     "output_type": "stream",
     "text": [
      "Target:\n",
      "we are the soil\n",
      "Output:\n",
      "<start> we have <end>\n",
      "--------------------------------------------------------------------------\n",
      "Target:\n",
      "that was i dont know what happened there\n",
      "Output:\n",
      "<start> i dont know what happened there was this <unk> <end>\n",
      "--------------------------------------------------------------------------\n",
      "Target:\n",
      "i want to challenge that do you know why\n",
      "Output:\n",
      "<start> i want to know that why <end>\n",
      "--------------------------------------------------------------------------\n",
      "Target:\n",
      "theyre highspeed take about seconds at most\n",
      "Output:\n",
      "<start> theyre very quick they take about seconds to live <end>\n",
      "--------------------------------------------------------------------------\n",
      "Score : 0.41204250345645244\n"
     ]
    }
   ],
   "source": [
    "test = val_data\n",
    "test_target = val_target\n",
    "avg_bleu = 0\n",
    "for i, sent in enumerate(test):\n",
    "  sent = tokenize_sent(sent)\n",
    "  sent = pad_seq(10, [sent], 2)\n",
    "  # print(sent)\n",
    "  sent = torch.tensor(sent[0], device=device)\n",
    "  # print(\"sent:\",sent.shape)\n",
    "  inp = \" \".join(word for word in [fr_idx2word[token] for token in sent.cpu().numpy()])\n",
    "  with torch.no_grad():\n",
    "    res, atts = predictv2(encoderv2, decoderv2, sent)\n",
    "    # print(res)\n",
    "    out = \" \".join(word for word in [eng_idx2word[token] for token in res])\n",
    "    # print(out.split())\n",
    "    avg_bleu += sentence_bleu([inp.split()],out.split())\n",
    "    if i % 50 == 0:\n",
    "      print(\"Target:\")\n",
    "      print(test_target[i])\n",
    "      print(\"Output:\")\n",
    "      print(out)\n",
    "      print(\"--------------------------------------------------------------------------\")\n",
    "    # print([eng_idx2word[token] for token in res])\n",
    "print(\"Score :\", avg_bleu / len(test))"
   ]
  },
  {
   "cell_type": "code",
   "execution_count": null,
   "metadata": {
    "colab": {
     "base_uri": "https://localhost:8080/"
    },
    "id": "MDtAqkFN1Ogh",
    "outputId": "6b622fc1-ae80-48db-f345-f35abaad4a8f"
   },
   "outputs": [
    {
     "name": "stderr",
     "output_type": "stream",
     "text": [
      "/usr/local/lib/python3.7/dist-packages/nltk/translate/bleu_score.py:490: UserWarning: \n",
      "Corpus/Sentence contains 0 counts of 3-gram overlaps.\n",
      "BLEU scores might be undesirable; use SmoothingFunction().\n",
      "  warnings.warn(_msg)\n"
     ]
    },
    {
     "data": {
      "text/plain": [
       "0.7071067811865475"
      ]
     },
     "execution_count": 125,
     "metadata": {
      "tags": []
     },
     "output_type": "execute_result"
    }
   ],
   "source": [
    "reference = [['this', 'is', 'small', 'test']]\n",
    "candidate = ['this', 'is', 'a', 'test']\n",
    "sentence_bleu(reference,candidate)"
   ]
  },
  {
   "cell_type": "code",
   "execution_count": null,
   "metadata": {
    "colab": {
     "base_uri": "https://localhost:8080/"
    },
    "id": "DIu4e-8ATBBZ",
    "outputId": "4073c185-cfdf-43f0-b7d4-a5b22c29dedd"
   },
   "outputs": [
    {
     "name": "stdout",
     "output_type": "stream",
     "text": [
      "Target:\n",
      "but weve kind of lacked imagination in how we could do that well or interestingly\n",
      "Output:\n",
      "<start> but weve kind of <unk> imagination at how we can use or interestingly <end>\n"
     ]
    },
    {
     "name": "stderr",
     "output_type": "stream",
     "text": [
      "/usr/local/lib/python3.7/dist-packages/ipykernel_launcher.py:3: UserWarning: To copy construct from a tensor, it is recommended to use sourceTensor.clone().detach() or sourceTensor.clone().detach().requires_grad_(True), rather than torch.tensor(sourceTensor).\n",
      "  This is separate from the ipykernel package so we can avoid doing imports until\n"
     ]
    }
   ],
   "source": [
    "for i, sent in enumerate([train_data[idxs[10]]]):\n",
    "  sent = tokenize_sent(sent)\n",
    "  sent = torch.tensor(sent, device=device)\n",
    "  with torch.no_grad():\n",
    "    res, atts = predict(encoder, decoder, sent)\n",
    "    # print(res)\n",
    "    out = \" \".join(word for word in [eng_idx2word[token] for token in res])\n",
    "    print(\"Target:\")\n",
    "    print(train_target[idxs[10]])\n",
    "    print(\"Output:\")\n",
    "    print(out)\n",
    "    # print([eng_idx2word[token] for token in res])"
   ]
  },
  {
   "cell_type": "code",
   "execution_count": null,
   "metadata": {
    "colab": {
     "base_uri": "https://localhost:8080/"
    },
    "id": "v2rO8_3lCaYH",
    "outputId": "790fe252-8b28-4dc4-b3e7-3e6568a9dbdf"
   },
   "outputs": [
    {
     "data": {
      "text/plain": [
       "12"
      ]
     },
     "execution_count": 122,
     "metadata": {
      "tags": []
     },
     "output_type": "execute_result"
    }
   ],
   "source": [
    "len(atts)"
   ]
  },
  {
   "cell_type": "code",
   "execution_count": null,
   "metadata": {
    "colab": {
     "base_uri": "https://localhost:8080/"
    },
    "id": "6XRyOfhUTCn6",
    "outputId": "77df80ab-d53e-4411-daec-cf538043e306"
   },
   "outputs": [
    {
     "name": "stdout",
     "output_type": "stream",
     "text": [
      "Target:\n",
      "part of the problem i think is we stand at the beach or we see images like this of the ocean and you look out at this great big blue expanse and its shimmering and its moving and theres waves and theres surf and theres tides but you have no idea for what lies in there\n",
      "Output:\n",
      "<start> and part of it i think is there that and some of the stuff go into the following <end>\n",
      "Target:\n",
      "bill lange we tend to forget about the fact that the ocean is miles deep on average and that were real familiar with the animals that are in the first or feet but were not familiar with what exists from there all the way down to the bottom\n",
      "Output:\n",
      "<start> bill is a tendency to get us that <unk> and <unk> of <unk> <end>\n",
      "Target:\n",
      "and then we had some hint that these things existed all along the axis of it because if youve got volcanism waters going to get down from the sea into cracks in the sea floor come in contact with magma and come shooting out hot\n",
      "Output:\n",
      "<start> so we came up with this incredible and the wonderful thing in the <unk> of a sea <end>\n"
     ]
    },
    {
     "name": "stderr",
     "output_type": "stream",
     "text": [
      "/usr/local/lib/python3.7/dist-packages/ipykernel_launcher.py:3: UserWarning: To copy construct from a tensor, it is recommended to use sourceTensor.clone().detach() or sourceTensor.clone().detach().requires_grad_(True), rather than torch.tensor(sourceTensor).\n",
      "  This is separate from the ipykernel package so we can avoid doing imports until\n"
     ]
    }
   ],
   "source": [
    "for i, sent in enumerate(val_data[:3]):\n",
    "  sent = tokenize_sent(sent)\n",
    "  sent = torch.tensor(sent, device=device)\n",
    "  with torch.no_grad():\n",
    "    res, atts = predict(encoder, decoder, sent)\n",
    "    # print(res)\n",
    "    out = \" \".join(word for word in [eng_idx2word[token] for token in res])\n",
    "    print(\"Target:\")\n",
    "    print(val_target[i])\n",
    "    print(\"Output:\")\n",
    "    print(out)\n",
    "    # print([eng_idx2word[token] for token in res])"
   ]
  },
  {
   "cell_type": "code",
   "execution_count": null,
   "metadata": {
    "colab": {
     "base_uri": "https://localhost:8080/",
     "height": 37
    },
    "id": "jGofoRhBTeuq",
    "outputId": "186d7ba8-51bd-44dc-ef96-90af12a5f85d"
   },
   "outputs": [
    {
     "data": {
      "application/vnd.google.colaboratory.intrinsic+json": {
       "type": "string"
      },
      "text/plain": [
       "'the most important thing is passion'"
      ]
     },
     "execution_count": 106,
     "metadata": {
      "tags": []
     },
     "output_type": "execute_result"
    }
   ],
   "source": []
  },
  {
   "cell_type": "code",
   "execution_count": null,
   "metadata": {
    "id": "5EgscKxDCuO1"
   },
   "outputs": [],
   "source": [
    "def tokenize_sent(sent):\n",
    "  sent = clean_line(sent)\n",
    "  tokenized = nums(sent, fr_word2idx, fr_idx2word)\n",
    "  return np.array(tokenized)"
   ]
  },
  {
   "cell_type": "code",
   "execution_count": null,
   "metadata": {
    "colab": {
     "base_uri": "https://localhost:8080/",
     "height": 1000
    },
    "id": "jgTdpdDtCwvq",
    "outputId": "7f04b45c-3c1d-4f83-d481-5915798483fe"
   },
   "outputs": [
    {
     "name": "stdout",
     "output_type": "stream",
     "text": [
      "the most important thing is passion\n"
     ]
    },
    {
     "name": "stderr",
     "output_type": "stream",
     "text": [
      "/usr/local/lib/python3.7/dist-packages/ipykernel_launcher.py:13: UserWarning: To copy construct from a tensor, it is recommended to use sourceTensor.clone().detach() or sourceTensor.clone().detach().requires_grad_(True), rather than torch.tensor(sourceTensor).\n",
      "  del sys.path[0]\n",
      "/usr/local/lib/python3.7/dist-packages/ipykernel_launcher.py:3: UserWarning: To copy construct from a tensor, it is recommended to use sourceTensor.clone().detach() or sourceTensor.clone().detach().requires_grad_(True), rather than torch.tensor(sourceTensor).\n",
      "  This is separate from the ipykernel package so we can avoid doing imports until\n"
     ]
    },
    {
     "data": {
      "image/png": "[encoded data removed]",
      "text/plain": [
       "<Figure size 1008x576 with 2 Axes>"
      ]
     },
     "metadata": {
      "needs_background": "light",
      "tags": []
     },
     "output_type": "display_data"
    },
    {
     "name": "stdout",
     "output_type": "stream",
     "text": [
      "let me tell you a secret\n"
     ]
    },
    {
     "data": {
      "image/png": "[encoded data removed]",
      "text/plain": [
       "<Figure size 1008x576 with 2 Axes>"
      ]
     },
     "metadata": {
      "needs_background": "light",
      "tags": []
     },
     "output_type": "display_data"
    },
    {
     "name": "stdout",
     "output_type": "stream",
     "text": [
      "there is a problem with community meetings\n"
     ]
    },
    {
     "data": {
      "image/png": "[encoded data removed]",
      "text/plain": [
       "<Figure size 1008x576 with 2 Axes>"
      ]
     },
     "metadata": {
      "needs_background": "light",
      "tags": []
     },
     "output_type": "display_data"
    }
   ],
   "source": [
    "example_ids = [12, 14, 15]\n",
    "for idx in example_ids:\n",
    "  sent = val_data[idx]\n",
    "  print(val_target[idx])\n",
    "  with torch.no_grad():\n",
    "    # inp = clean_line(sent)\n",
    "    # prin\n",
    "    sent = tokenize_sent(sent)\n",
    "    sent = pad_seq(10, [sent], 2)\n",
    "    # print(sent)\n",
    "    sent = torch.tensor(sent[0], device=device)\n",
    "    inp = \" \".join(word for word in [fr_idx2word[token] for token in sent.cpu().numpy()])\n",
    "    sent = torch.tensor(sent, device=device)\n",
    "    res, atts = predictv2(encoderv2, decoderv2, sent)\n",
    "    # print(res)\n",
    "  # atts[0][0][0].shape\n",
    "  out = \" \".join(word for word in [eng_idx2word[token] for token in res])\n",
    "  make_atts = []\n",
    "  for vec in atts:\n",
    "    make_atts.append(vec[0][0])\n",
    "  make_atts = np.array(make_atts)\n",
    "  fig = plt.figure(figsize=(14,8))\n",
    "  ax = fig.add_subplot(111)\n",
    "  cax = ax.matshow(make_atts)\n",
    "  fig.colorbar(cax)\n",
    "  ax.set_xticklabels([\"\"]+inp.split())\n",
    "  ax.set_yticklabels(out.split())\n",
    "  ax.xaxis.set_major_locator(ticker.MultipleLocator(1))\n",
    "  ax.yaxis.set_major_locator(ticker.MultipleLocator(1))\n",
    "  plt.show()\n"
   ]
  },
  {
   "cell_type": "code",
   "execution_count": null,
   "metadata": {
    "colab": {
     "base_uri": "https://localhost:8080/",
     "height": 37
    },
    "id": "WP-hUMyCC0z9",
    "outputId": "8391866e-84f6-4465-f77f-8a09a694e191"
   },
   "outputs": [
    {
     "data": {
      "application/vnd.google.colaboratory.intrinsic+json": {
       "type": "string"
      },
      "text/plain": [
       "'<start> the most important thing is its passion <end>'"
      ]
     },
     "execution_count": 110,
     "metadata": {
      "tags": []
     },
     "output_type": "execute_result"
    }
   ],
   "source": [
    "out = \" \".join(word for word in [eng_idx2word[token] for token in res])\n",
    "out"
   ]
  },
  {
   "cell_type": "code",
   "execution_count": null,
   "metadata": {
    "id": "5g4s5G9yEDaO"
   },
   "outputs": [],
   "source": [
    "# atts"
   ]
  },
  {
   "cell_type": "code",
   "execution_count": null,
   "metadata": {
    "colab": {
     "base_uri": "https://localhost:8080/",
     "height": 545
    },
    "id": "kH4_8LewDBzK",
    "outputId": "d8439bf3-c4ac-471b-a261-b27c084214df"
   },
   "outputs": [
    {
     "data": {
      "image/png": "[encoded data removed]",
      "text/plain": [
       "<Figure size 1440x720 with 2 Axes>"
      ]
     },
     "metadata": {
      "needs_background": "light",
      "tags": []
     },
     "output_type": "display_data"
    }
   ],
   "source": [
    "# atts[0][0][0].shape\n",
    "make_atts = []\n",
    "for vec in atts:\n",
    "  make_atts.append(vec[0][0])\n",
    "make_atts = np.array(make_atts)\n",
    "fig = plt.figure(figsize=(20,10))\n",
    "ax = fig.add_subplot(111)\n",
    "cax = ax.matshow(make_atts)\n",
    "fig.colorbar(cax)\n",
    "ax.set_xticklabels([\"\"]+inp.split())\n",
    "ax.set_yticklabels(out.split())\n",
    "ax.xaxis.set_major_locator(ticker.MultipleLocator(1))\n",
    "ax.yaxis.set_major_locator(ticker.MultipleLocator(1))\n",
    "plt.show()\n"
   ]
  },
  {
   "cell_type": "code",
   "execution_count": null,
   "metadata": {
    "id": "s8X1ub1_GM1U"
   },
   "outputs": [],
   "source": []
  }
 ],
 "metadata": {
  "accelerator": "GPU",
  "colab": {
   "collapsed_sections": [],
   "name": "NMT.ipynb",
   "provenance": []
  },
  "kernelspec": {
   "display_name": "Python 3",
   "language": "python",
   "name": "python3"
  },
  "language_info": {
   "codemirror_mode": {
    "name": "ipython",
    "version": 3
   },
   "file_extension": ".py",
   "mimetype": "text/x-python",
   "name": "python",
   "nbconvert_exporter": "python",
   "pygments_lexer": "ipython3",
   "version": "3.8.3"
  }
 },
 "nbformat": 4,
 "nbformat_minor": 1
}
